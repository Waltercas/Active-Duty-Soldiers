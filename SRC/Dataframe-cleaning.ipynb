{
 "cells": [
  {
   "cell_type": "code",
   "execution_count": 1,
   "id": "d64bc8ab-739e-4458-8fcb-fa4f019333eb",
   "metadata": {},
   "outputs": [],
   "source": [
    "import pandas as pd\n",
    "import numpy as np\n",
    "import matplotlib.pyplot as plt\n",
    "%matplotlib inline\n",
    "from scipy import stats\n",
    "plt.style.use('ggplot')\n",
    "from statistics import mean\n",
    "import seaborn as sns\n",
    "from statsmodels.formula.api import ols\n",
    "from sklearn.model_selection import train_test_split\n",
    "from sklearn import linear_model\n",
    "import statsmodels.api as sm\n",
    "import scipy as sp\n",
    "import scipy.stats as stats\n",
    "\n",
    "from statsmodels.stats.proportion import proportions_ztest"
   ]
  },
  {
   "cell_type": "code",
   "execution_count": 2,
   "id": "f1b1a258-b276-4b76-a214-12324a8c8088",
   "metadata": {},
   "outputs": [],
   "source": [
    "ad_marital_status = pd.read_excel ('../Data/AD-by-marital-status.xls')"
   ]
  },
  {
   "cell_type": "code",
   "execution_count": 3,
   "id": "a3d2c372-4e1f-4b35-ab26-da844d3d2bb1",
   "metadata": {},
   "outputs": [
    {
     "data": {
      "text/html": [
       "<div>\n",
       "<style scoped>\n",
       "    .dataframe tbody tr th:only-of-type {\n",
       "        vertical-align: middle;\n",
       "    }\n",
       "\n",
       "    .dataframe tbody tr th {\n",
       "        vertical-align: top;\n",
       "    }\n",
       "\n",
       "    .dataframe thead th {\n",
       "        text-align: right;\n",
       "    }\n",
       "</style>\n",
       "<table border=\"1\" class=\"dataframe\">\n",
       "  <thead>\n",
       "    <tr style=\"text-align: right;\">\n",
       "      <th></th>\n",
       "      <th>Pay Grade</th>\n",
       "      <th>Single Male</th>\n",
       "      <th>Single Female</th>\n",
       "      <th>Single Total</th>\n",
       "      <th>Single Parent Male</th>\n",
       "      <th>Single Parent Female</th>\n",
       "      <th>Single Parent Total</th>\n",
       "      <th>Joint Service Marriage Male</th>\n",
       "      <th>Joint Service Marriage Female</th>\n",
       "      <th>Joint Service Marriage Total</th>\n",
       "      <th>Civilian Married Male</th>\n",
       "      <th>Civilian Married Female</th>\n",
       "      <th>Civilian Married Total</th>\n",
       "      <th>Total Male</th>\n",
       "      <th>Total Female</th>\n",
       "      <th>Grand Total</th>\n",
       "    </tr>\n",
       "  </thead>\n",
       "  <tbody>\n",
       "    <tr>\n",
       "      <th>0</th>\n",
       "      <td>E-1</td>\n",
       "      <td>31229</td>\n",
       "      <td>5717</td>\n",
       "      <td>36946</td>\n",
       "      <td>563</td>\n",
       "      <td>122</td>\n",
       "      <td>685</td>\n",
       "      <td>139</td>\n",
       "      <td>141</td>\n",
       "      <td>280</td>\n",
       "      <td>5060</td>\n",
       "      <td>719</td>\n",
       "      <td>5779</td>\n",
       "      <td>36991</td>\n",
       "      <td>6699</td>\n",
       "      <td>43690</td>\n",
       "    </tr>\n",
       "    <tr>\n",
       "      <th>1</th>\n",
       "      <td>E-2</td>\n",
       "      <td>53094</td>\n",
       "      <td>8388</td>\n",
       "      <td>61482</td>\n",
       "      <td>1457</td>\n",
       "      <td>275</td>\n",
       "      <td>1732</td>\n",
       "      <td>438</td>\n",
       "      <td>579</td>\n",
       "      <td>1017</td>\n",
       "      <td>12483</td>\n",
       "      <td>1682</td>\n",
       "      <td>14165</td>\n",
       "      <td>67472</td>\n",
       "      <td>10924</td>\n",
       "      <td>78396</td>\n",
       "    </tr>\n",
       "    <tr>\n",
       "      <th>2</th>\n",
       "      <td>E-3</td>\n",
       "      <td>131091</td>\n",
       "      <td>21019</td>\n",
       "      <td>152110</td>\n",
       "      <td>4264</td>\n",
       "      <td>1920</td>\n",
       "      <td>6184</td>\n",
       "      <td>3579</td>\n",
       "      <td>4902</td>\n",
       "      <td>8481</td>\n",
       "      <td>54795</td>\n",
       "      <td>6641</td>\n",
       "      <td>61436</td>\n",
       "      <td>193729</td>\n",
       "      <td>34482</td>\n",
       "      <td>228211</td>\n",
       "    </tr>\n",
       "    <tr>\n",
       "      <th>3</th>\n",
       "      <td>E-4</td>\n",
       "      <td>112710</td>\n",
       "      <td>16381</td>\n",
       "      <td>129091</td>\n",
       "      <td>9491</td>\n",
       "      <td>4662</td>\n",
       "      <td>14153</td>\n",
       "      <td>8661</td>\n",
       "      <td>9778</td>\n",
       "      <td>18439</td>\n",
       "      <td>105556</td>\n",
       "      <td>9961</td>\n",
       "      <td>115517</td>\n",
       "      <td>236418</td>\n",
       "      <td>40782</td>\n",
       "      <td>277200</td>\n",
       "    </tr>\n",
       "    <tr>\n",
       "      <th>4</th>\n",
       "      <td>E-5</td>\n",
       "      <td>57989</td>\n",
       "      <td>11021</td>\n",
       "      <td>69010</td>\n",
       "      <td>10937</td>\n",
       "      <td>6576</td>\n",
       "      <td>17513</td>\n",
       "      <td>12459</td>\n",
       "      <td>11117</td>\n",
       "      <td>23576</td>\n",
       "      <td>130944</td>\n",
       "      <td>8592</td>\n",
       "      <td>139536</td>\n",
       "      <td>212329</td>\n",
       "      <td>37306</td>\n",
       "      <td>249635</td>\n",
       "    </tr>\n",
       "  </tbody>\n",
       "</table>\n",
       "</div>"
      ],
      "text/plain": [
       "  Pay Grade  Single Male  Single Female  Single Total  Single Parent Male  \\\n",
       "0       E-1        31229           5717         36946                 563   \n",
       "1       E-2        53094           8388         61482                1457   \n",
       "2       E-3       131091          21019        152110                4264   \n",
       "3       E-4       112710          16381        129091                9491   \n",
       "4       E-5        57989          11021         69010               10937   \n",
       "\n",
       "   Single Parent Female  Single Parent Total  Joint Service Marriage Male  \\\n",
       "0                   122                  685                          139   \n",
       "1                   275                 1732                          438   \n",
       "2                  1920                 6184                         3579   \n",
       "3                  4662                14153                         8661   \n",
       "4                  6576                17513                        12459   \n",
       "\n",
       "   Joint Service Marriage Female  Joint Service Marriage Total  \\\n",
       "0                            141                           280   \n",
       "1                            579                          1017   \n",
       "2                           4902                          8481   \n",
       "3                           9778                         18439   \n",
       "4                          11117                         23576   \n",
       "\n",
       "   Civilian Married Male  Civilian Married Female  Civilian Married Total  \\\n",
       "0                   5060                      719                    5779   \n",
       "1                  12483                     1682                   14165   \n",
       "2                  54795                     6641                   61436   \n",
       "3                 105556                     9961                  115517   \n",
       "4                 130944                     8592                  139536   \n",
       "\n",
       "   Total Male  Total Female  Grand Total  \n",
       "0       36991          6699        43690  \n",
       "1       67472         10924        78396  \n",
       "2      193729         34482       228211  \n",
       "3      236418         40782       277200  \n",
       "4      212329         37306       249635  "
      ]
     },
     "execution_count": 3,
     "metadata": {},
     "output_type": "execute_result"
    }
   ],
   "source": [
    "ad_marital_status.head()"
   ]
  },
  {
   "cell_type": "code",
   "execution_count": 4,
   "id": "5c08d133-0c23-4048-958a-d124cd843f10",
   "metadata": {},
   "outputs": [],
   "source": [
    "enlisted_df = ad_marital_status[:10]"
   ]
  },
  {
   "cell_type": "code",
   "execution_count": 5,
   "id": "25489f79-ffda-4af8-b748-d9e512ad9aa8",
   "metadata": {},
   "outputs": [],
   "source": [
    "officer_df = ad_marital_status[10:21]"
   ]
  },
  {
   "cell_type": "code",
   "execution_count": 6,
   "id": "d4f2a12f-ee18-423f-ab90-71947d4f7fd8",
   "metadata": {},
   "outputs": [],
   "source": [
    "warrant_df = ad_marital_status[21:27]"
   ]
  },
  {
   "cell_type": "code",
   "execution_count": 7,
   "id": "8f4971f1-b799-490b-8913-64047b3374df",
   "metadata": {},
   "outputs": [],
   "source": [
    "enlisted_df2 = enlisted_df.drop(columns=['Single Total', 'Joint Service Marriage Total', 'Single Parent Total', 'Civilian Married Total', 'Grand Total','Total Male', 'Total Female'])"
   ]
  },
  {
   "cell_type": "code",
   "execution_count": 8,
   "id": "74a956ca-d9be-473f-b4fb-bc5bdf47d4fd",
   "metadata": {},
   "outputs": [],
   "source": [
    "enlisted_df3 = enlisted_df.drop(columns=['Single Male', 'Single Female', 'Joint Service Marriage Male', 'Joint Service Marriage Female','Single Parent Male','Single Parent Female', 'Civilian Married Male','Civilian Married Female', 'Grand Total','Total Male', 'Total Female'])"
   ]
  },
  {
   "cell_type": "code",
   "execution_count": 9,
   "id": "b02c4b2f-58c8-4ba9-b9d6-412deab4aebf",
   "metadata": {},
   "outputs": [],
   "source": [
    "officer_df = ad_marital_status[10:20]\n",
    "officer_df3 = officer_df.drop(columns=['Single Male', 'Single Female', 'Joint Service Marriage Male', 'Joint Service Marriage Female','Single Parent Male','Single Parent Female', 'Civilian Married Male','Civilian Married Female', 'Grand Total','Total Male', 'Total Female'])\n",
    "single_total= officer_df3['Single Total'].values\n",
    "single_parent_total = officer_df3['Single Parent Total'].values\n",
    "joint_service_marriage_total= officer_df3['Joint Service Marriage Total'].values\n",
    "civilian_married_total = officer_df3['Civilian Married Total'].values\n",
    "\n"
   ]
  },
  {
   "cell_type": "code",
   "execution_count": 10,
   "id": "46296f1f-62f4-435c-8841-7aa87983b21b",
   "metadata": {},
   "outputs": [
    {
     "data": {
      "image/png": "[encoded data removed]",
      "text/plain": [
       "<Figure size 1440x576 with 1 Axes>"
      ]
     },
     "metadata": {},
     "output_type": "display_data"
    }
   ],
   "source": [
    "labels= ['O-1','0-2','O-3','O-4','O-5','O-6','O-7','O-8', 'O-9', 'O-10']\n",
    "\n",
    "x=np.arange(len(labels))\n",
    "width = 0.23\n",
    "\n",
    "fig, ax = plt.subplots(figsize=(20,8)) \n",
    "rects1 = ax.bar(x, single_total ,width, label='Single Total')\n",
    "rects2 = ax.bar(x+width,single_parent_total ,width, label='Single Parent Total')\n",
    "rects3 = ax.bar(x+2*width,joint_service_marriage_total ,width, label='Joint Service Married Total')\n",
    "ects4 = ax.bar(x+3*width, civilian_married_total ,width, label='Civilian Married Total')\n",
    "\n",
    "ax.set_ylabel('Scores')\n",
    "ax.set_title('Scores by group and gender')\n",
    "plt.xticks(x+width, labels)\n",
    "plt.legend(loc=\"upper right\")\n",
    "plt.title('Officer Service Members by Marital Status')\n",
    "plt.xlabel('Officer Pay Grade')\n",
    "plt.ylabel('Number of Service Members')\n",
    "plt.rcParams.update({'font.size': 18})\n",
    "plt.grid()\n",
    "plt.show()\n",
    "\n"
   ]
  },
  {
   "cell_type": "code",
   "execution_count": 11,
   "id": "b82a82ec-e8e5-422e-852d-97d5b25a73da",
   "metadata": {},
   "outputs": [],
   "source": [
    "enlisted_df3 = enlisted_df.drop(columns=['Single Male', 'Single Female', 'Joint Service Marriage Male', 'Joint Service Marriage Female','Single Parent Male','Single Parent Female', 'Civilian Married Male','Civilian Married Female', 'Grand Total','Total Male', 'Total Female'])\n",
    "single_total2= enlisted_df3['Single Total'].values\n",
    "single_parent_total2 = enlisted_df3['Single Parent Total'].values\n",
    "joint_service_marriage_total2= enlisted_df3['Joint Service Marriage Total'].values\n",
    "civilian_married_total2 = enlisted_df3['Civilian Married Total'].values\n"
   ]
  },
  {
   "cell_type": "code",
   "execution_count": 12,
   "id": "dbaf79f7-4811-477a-97a3-c68d1e4a241e",
   "metadata": {},
   "outputs": [],
   "source": [
    "enlisted_df.set_index('Pay Grade')\n",
    "df = enlisted_df.set_index('Pay Grade')\n",
    "df['Total Married'] = enlisted_df['Joint Service Marriage Total'].values + enlisted_df['Civilian Married Total'].values\n",
    "married_enlisted = df['Total Married'].values\n",
    "\n",
    "officer_df.set_index('Pay Grade')\n",
    "df2 = officer_df.set_index('Pay Grade')\n",
    "df2['Total Married'] = officer_df['Joint Service Marriage Total'].values + officer_df['Civilian Married Total'].values\n",
    "married_officers =df2['Total Married'].values\n",
    "\n",
    "\n"
   ]
  },
  {
   "cell_type": "code",
   "execution_count": 13,
   "id": "01c65136-e8ab-4bc0-afbd-a978c8a9fa69",
   "metadata": {},
   "outputs": [],
   "source": [
    "ad_marital_index = ad_marital_status.set_index('Pay Grade')\n",
    "\n",
    "js_married_e = int(ad_marital_index.loc[['TOTAL ENLISTED'],'Joint Service Marriage Total'].values)\n",
    "civ_married_e = int(ad_marital_index.loc[['TOTAL ENLISTED'],'Civilian Married Total'].values)\n",
    "total_e = int(ad_marital_index.loc[['TOTAL ENLISTED'],'Grand Total'].values)\n",
    "enlisted_married = int(js_married_e) + int(civ_married_e)"
   ]
  },
  {
   "cell_type": "code",
   "execution_count": 14,
   "id": "75ee619e-ea9e-4a77-b5c1-2d4fcf6f69bc",
   "metadata": {},
   "outputs": [],
   "source": [
    "married_mean_e = enlisted_married/total_e\n"
   ]
  },
  {
   "cell_type": "code",
   "execution_count": null,
   "id": "9b334e13-fd37-4445-9cb2-34d6b5baacf8",
   "metadata": {},
   "outputs": [],
   "source": []
  },
  {
   "cell_type": "code",
   "execution_count": 15,
   "id": "0e95d14a-ef4f-4a9a-85b5-2d714520551c",
   "metadata": {},
   "outputs": [],
   "source": [
    "ad_marital_index = ad_marital_status.set_index('Pay Grade')\n",
    "\n",
    "js_married_e = int(ad_marital_index.loc[['TOTAL ENLISTED'],'Joint Service Marriage Total'].values)\n",
    "civ_married_e = int(ad_marital_index.loc[['TOTAL ENLISTED'],'Civilian Married Total'].values)\n",
    "\n",
    "total_e = int(ad_marital_index.loc[['TOTAL ENLISTED'],'Grand Total'].values)\n",
    "enlisted_married = int(js_married_e) + int(civ_married_e)\n",
    "married_prop_e = enlisted_married/total_e\n"
   ]
  },
  {
   "cell_type": "code",
   "execution_count": 16,
   "id": "03c6552e-7237-4d93-acc1-8e341e93fd5e",
   "metadata": {},
   "outputs": [],
   "source": [
    "ad_marital_index = ad_marital_status.set_index('Pay Grade')\n",
    "\n",
    "js_married_o = int(ad_marital_index.loc[['TOTAL OFFICER'],'Joint Service Marriage Total'].values)\n",
    "civ_married_o = int(ad_marital_index.loc[['TOTAL OFFICER'],'Civilian Married Total'].values)\n",
    "total_o = int(ad_marital_index.loc[['TOTAL OFFICER'],'Grand Total'].values)\n",
    "officer_married = int(js_married_o) + int(civ_married_o)\n",
    "married_prop_o = officer_married/total_o"
   ]
  },
  {
   "cell_type": "code",
   "execution_count": 17,
   "id": "429e4a4e-87fd-4814-98fc-6fe2e1203826",
   "metadata": {},
   "outputs": [
    {
     "data": {
      "text/plain": [
       "(0.6942916109775622, 0.5358605813165856)"
      ]
     },
     "execution_count": 17,
     "metadata": {},
     "output_type": "execute_result"
    }
   ],
   "source": [
    "married_prop_o, married_prop_e"
   ]
  },
  {
   "cell_type": "code",
   "execution_count": 18,
   "id": "c3a0d21f-04c5-45d0-8252-0c3c571ca990",
   "metadata": {},
   "outputs": [
    {
     "name": "stdout",
     "output_type": "stream",
     "text": [
      "z_stat: -1.276, p_value: 0.202\n",
      "Fail to reject the null hypothesis - we have nothing else to say\n"
     ]
    }
   ],
   "source": [
    "significance = 0.025\n",
    "\n",
    "sample_prop_e, sample_size_e = (married_prop_e, total_e)\n",
    "sample_prop_o, sample_size_o = (married_prop_o, total_o)\n",
    "\n",
    "successes = np.array([sample_prop_e, sample_prop_o])\n",
    "samples = np.array([sample_size_e, sample_size_o])\n",
    "\n",
    "\n",
    "stat, p_value = proportions_ztest(count=successes, nobs=samples,  alternative='two-sided')\n",
    "\n",
    "print('z_stat: %0.3f, p_value: %0.3f' % (stat, p_value))\n",
    "\n",
    "if p_value > significance:\n",
    "   print(\"Fail to reject the null hypothesis - we have nothing else to say\")\n",
    "else:\n",
    "   print(\"Reject the null hypothesis - suggest the alternative hypothesis is true\")"
   ]
  },
  {
   "cell_type": "code",
   "execution_count": null,
   "id": "b13e32ff-be99-4265-9f35-084065186235",
   "metadata": {},
   "outputs": [],
   "source": []
  },
  {
   "cell_type": "code",
   "execution_count": null,
   "id": "0ede6521-8e2c-4b40-bf38-f2cf438073a6",
   "metadata": {},
   "outputs": [],
   "source": []
  },
  {
   "cell_type": "code",
   "execution_count": 19,
   "id": "de394d92-797e-4a58-a2a2-7aff8eb26d2b",
   "metadata": {},
   "outputs": [
    {
     "ename": "NameError",
     "evalue": "name 'total_sm' is not defined",
     "output_type": "error",
     "traceback": [
      "\u001b[0;31m---------------------------------------------------------------------------\u001b[0m",
      "\u001b[0;31mNameError\u001b[0m                                 Traceback (most recent call last)",
      "\u001b[0;32m<ipython-input-19-9d0fa5b9b5f5>\u001b[0m in \u001b[0;36m<module>\u001b[0;34m\u001b[0m\n\u001b[1;32m     10\u001b[0m \u001b[0munmarried_prop_e\u001b[0m \u001b[0;34m=\u001b[0m \u001b[0munmarried_total_e\u001b[0m\u001b[0;34m/\u001b[0m\u001b[0munmarried_total\u001b[0m\u001b[0;34m\u001b[0m\u001b[0;34m\u001b[0m\u001b[0m\n\u001b[1;32m     11\u001b[0m \u001b[0munmarried_prop_o\u001b[0m \u001b[0;34m=\u001b[0m \u001b[0munmarried_total_o\u001b[0m\u001b[0;34m/\u001b[0m\u001b[0munmarried_total\u001b[0m\u001b[0;34m\u001b[0m\u001b[0;34m\u001b[0m\u001b[0m\n\u001b[0;32m---> 12\u001b[0;31m \u001b[0munmarried_prop\u001b[0m \u001b[0;34m=\u001b[0m \u001b[0munmarried_total\u001b[0m \u001b[0;34m/\u001b[0m \u001b[0mtotal_sm\u001b[0m\u001b[0;34m\u001b[0m\u001b[0;34m\u001b[0m\u001b[0m\n\u001b[0m\u001b[1;32m     13\u001b[0m \u001b[0;34m\u001b[0m\u001b[0m\n",
      "\u001b[0;31mNameError\u001b[0m: name 'total_sm' is not defined"
     ]
    }
   ],
   "source": [
    "single_e = int(ad_marital_index.loc[['TOTAL ENLISTED'],'Single Total'].values)\n",
    "single_parent_e = int(ad_marital_index.loc[['TOTAL ENLISTED'],'Single Parent Total'].values)\n",
    "single_o = int(ad_marital_index.loc[['TOTAL OFFICER'],'Single Total'].values)\n",
    "single_parent_o = int(ad_marital_index.loc[['TOTAL OFFICER'],'Single Parent Total'].values)\n",
    "\n",
    "unmarried_total_e = single_parent_e + single_e\n",
    "unmarried_total_o = single_parent_o + single_o\n",
    "unmarried_total = unmarried_total_e + unmarried_total_o\n",
    "\n",
    "unmarried_prop_e = unmarried_total_e/unmarried_total\n",
    "unmarried_prop_o = unmarried_total_o/unmarried_total\n",
    "unmarried_prop = unmarried_total / total_sm\n",
    "\n"
   ]
  },
  {
   "cell_type": "code",
   "execution_count": null,
   "id": "bed40769-aecb-4163-90f0-d9bb7b40588b",
   "metadata": {},
   "outputs": [],
   "source": [
    "total_sm =total_e + total_o\n",
    "all_married = enlisted_married + officer_married\n",
    "married_prop = all_married / total_sm\n",
    "married_prop"
   ]
  },
  {
   "cell_type": "code",
   "execution_count": null,
   "id": "f5b8e078-1bab-49b4-a7bd-06cca5a91aa8",
   "metadata": {},
   "outputs": [],
   "source": [
    "ad_marital_status = pd.read_excel ('../Data/AD-by-marital-status.xls')\n",
    "ad_marital_index = ad_marital_status.set_index('Pay Grade')\n",
    "\n",
    "enlisted_df = ad_marital_status[:9]\n",
    "enlisted_totals = enlisted_df.drop(columns=['Single Male', 'Single Female', 'Joint Service Marriage Male', 'Joint Service Marriage Female', \\\n",
    "    'Single Parent Male','Single Parent Female', 'Civilian Married Male','Civilian Married Female', 'Grand Total','Total Male', 'Total Female'])\n",
    "officer_df = ad_marital_status[10:20]\n",
    "officer_totals = officer_df.drop(columns=['Single Male', 'Single Female', 'Joint Service Marriage Male', 'Joint Service Marriage Female',\\\n",
    "    'Single Parent Male','Single Parent Female', 'Civilian Married Male','Civilian Married Female', 'Grand Total','Total Male', 'Total Female'])\n"
   ]
  },
  {
   "cell_type": "code",
   "execution_count": null,
   "id": "d65d34de-290e-437c-bff0-ea49f1f1a87b",
   "metadata": {},
   "outputs": [],
   "source": [
    "def marital_status_bar_mean(df ):\n",
    "\n",
    "    single_total = df['Single Total'].values\n",
    "    single_parent_total = df['Single Parent Total'].values\n",
    "    joint_service_marriage_total = df['Joint Service Marriage Total'].values\n",
    "    civilian_married_total = df['Civilian Married Total'].values\n",
    "\n",
    "    single_total_mean =np.mean(single_total)\n",
    "    single_parent_total_mean =np.mean(single_parent_total)\n",
    "    joint_service_marriage_total_mean = np.mean(joint_service_marriage_total)\n",
    "    civilian_married_total_mean = np.mean(civilian_married_total)\n",
    "    y = single_parent_total_mean, single_parent_total_mean, joint_service_marriage_total_mean, civilian_married_total_mean\n",
    "    labels = ['Single', 'Single Parent', 'Joint Service Marriage', 'Civilian Marriage' ]\n",
    "\n",
    "    x=np.arange(len(labels))\n",
    "    width = 0.23\n",
    "\n",
    "    fig, ax = plt.subplots(figsize=(20,8)) \n",
    "    plt.bar(x, y,color=['red', 'blue', 'green', 'black'] )\n",
    "    \n",
    "\n",
    "   \n",
    "    plt.xticks(x, labels)\n",
    "    if len(df.index) > 9:\n",
    "        rank = \"Officers\"\n",
    "    else:\n",
    "        rank = \"Enlisted\"\n",
    "        \n",
    "    plt.title('{} by Marital Status'.format(rank))\n",
    "    plt.xlabel('Marital Status')\n",
    "    plt.ylabel('Average Number of Service Members')\n",
    "    plt.rcParams.update({'font.size': 18})\n",
    "    return plt.show()"
   ]
  },
  {
   "cell_type": "code",
   "execution_count": null,
   "id": "fad05191-264b-4628-8878-99eaba496d68",
   "metadata": {},
   "outputs": [],
   "source": [
    "marital_status_bar_mean(officer_df)"
   ]
  },
  {
   "cell_type": "code",
   "execution_count": null,
   "id": "8cd2b2df-30b2-4a46-b983-5b15954c6961",
   "metadata": {},
   "outputs": [],
   "source": [
    "y = married_prop, unmarried_prop\n",
    "fig, ax = plt.subplots(figsize=(20,8))\n",
    "x = 'Married','Unmarried'\n",
    "plt.bar(x, y, color = [\"green\"]  )"
   ]
  },
  {
   "cell_type": "code",
   "execution_count": null,
   "id": "d58f9a44-18f1-4b5c-8250-22ac9ecb4640",
   "metadata": {},
   "outputs": [],
   "source": [
    "def ad_marital_status_bar_mean(save_bool, plot_bool):\n",
    "    '''Function that creates bar plot of mean of officer or enlisted married personel by rank\n",
    "    takes in a dataframe'''\n",
    "    single_total = int(ad_marital_index.loc[['TOTAL ENLISTED'],'Single Total'].values) + int(ad_marital_index.loc[['TOTAL OFFICER'],'Single Total'].values)\n",
    "    single_parent_total = int(ad_marital_index.loc[['TOTAL ENLISTED'],'Single Parent Total'].values) + int(ad_marital_index.loc[['TOTAL OFFICER'],'Single Parent Total'].values)\n",
    "    joint_service_marriage_total = int(ad_marital_index.loc[['TOTAL ENLISTED'],'Joint Service Marriage Total'].values) + int(ad_marital_index.loc[['TOTAL OFFICER'],'Joint Service Marriage Total'].values)\n",
    "    civilian_married_total = int(ad_marital_index.loc[['TOTAL OFFICER'],'Civilian Married Total'].values) + int(ad_marital_index.loc[['TOTAL ENLISTED'],'Civilian Married Total'].values)\n",
    "\n",
    "\n",
    "    single_total_mean =np.mean(single_total)\n",
    "    single_parent_total_mean =np.mean(single_parent_total)\n",
    "    joint_service_marriage_total_mean = np.mean(joint_service_marriage_total)\n",
    "    civilian_married_total_mean = np.mean(civilian_married_total)\n",
    "    y = single_total_mean, single_parent_total_mean, joint_service_marriage_total_mean, civilian_married_total_mean\n",
    "    labels = ['Single', 'Single Parent', 'Joint Service Marriage', 'Civilian Marriage' ]\n",
    "\n",
    "    x=np.arange(len(labels))\n",
    "    width = 0.23\n",
    "\n",
    "    fig, ax = plt.subplots(figsize=(20,8)) \n",
    "    plt.bar(x, y,color=['red', 'blue', 'green', 'black'] )\n",
    "    \n",
    "    plt.xticks(x, labels)\n",
    "  \n",
    "    plt.title('Service Members by Marital Status')\n",
    "    plt.xlabel('Marital Status')\n",
    "    plt.ylabel('Average Number of Service Members')\n",
    "    plt.rcParams.update({'font.size': 18})\n",
    "    if save_bool == 1:\n",
    "        plt.savefig('AD Marrital Status')\n",
    "    if plot_bool == 1:\n",
    "        plt.show()\n",
    "    return "
   ]
  },
  {
   "cell_type": "code",
   "execution_count": null,
   "id": "184be6af-4068-4532-b25e-d639e1114c04",
   "metadata": {},
   "outputs": [],
   "source": [
    "ad_marital_status_bar_mean(1,1)"
   ]
  },
  {
   "cell_type": "code",
   "execution_count": null,
   "id": "70be01b4-c123-4b7a-b293-1ec61960fc1b",
   "metadata": {},
   "outputs": [],
   "source": []
  },
  {
   "cell_type": "code",
   "execution_count": null,
   "id": "bbc5366b-37a3-4e6a-a08c-0411cb9a5df8",
   "metadata": {},
   "outputs": [],
   "source": []
  }
 ],
 "metadata": {
  "kernelspec": {
   "display_name": "Python 3",
   "language": "python",
   "name": "python3"
  },
  "language_info": {
   "codemirror_mode": {
    "name": "ipython",
    "version": 3
   },
   "file_extension": ".py",
   "mimetype": "text/x-python",
   "name": "python",
   "nbconvert_exporter": "python",
   "pygments_lexer": "ipython3",
   "version": "3.8.8"
  }
 },
 "nbformat": 4,
 "nbformat_minor": 5
}
